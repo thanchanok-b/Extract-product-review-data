{
 "cells": [
  {
   "cell_type": "markdown",
   "id": "3ab31f8f-c329-418d-b493-ee4f2e3b1e56",
   "metadata": {},
   "source": [
    "## Selenium"
   ]
  },
  {
   "cell_type": "code",
   "execution_count": 1,
   "id": "a6b208a0-a979-42d5-bc4c-f217140c8844",
   "metadata": {},
   "outputs": [],
   "source": [
    "import time\n",
    "import pandas as pd\n",
    "from selenium import webdriver\n",
    "from selenium.webdriver.edge.options import Options\n",
    "from selenium.webdriver.common.by import By\n",
    "from selenium.webdriver.support.ui import WebDriverWait\n",
    "from selenium.webdriver.support import expected_conditions as EC\n",
    "from selenium.common.exceptions import TimeoutException\n",
    "\n",
    "# Set up EdgeOptions\n",
    "edge_options = Options()\n",
    "edge_options.add_argument(\"user-agent=Mozilla/5.0 (Windows NT 10.0; Win64; x64) AppleWebKit/537.36 (KHTML, like Gecko) Chrome/91.0.4472.124 Safari/537.36 Edg/91.0.864.54\")\n",
    "edge_options.add_argument(\"window-size=1920x1080\")\n",
    "edge_options.add_argument(\"disable-extensions\")\n",
    "edge_options.add_argument(\"--disable-blink-features=AutomationControlled\")\n",
    "edge_options.add_experimental_option(\"excludeSwitches\", [\"enable-automation\"])\n",
    "\n",
    "def login_amazon(driver, username, password):\n",
    "    if 'https://www.amazon.in/ap/signin' in driver.current_url:\n",
    "        user_field = driver.find_element(By.ID, 'ap_user')\n",
    "        user_field.send_keys(username)\n",
    "\n",
    "        continue_button = driver.find_element(By.ID, 'continue')\n",
    "        continue_button.click()\n",
    "        time.sleep(2)\n",
    "\n",
    "        password_field = driver.find_element(By.ID, 'ap_password')\n",
    "        password_field.send_keys(password)\n",
    "\n",
    "        sign_in_button = driver.find_element(By.ID, 'signInSubmit')\n",
    "        sign_in_button.click()\n",
    "        time.sleep(5)\n",
    "\n",
    "def collect_reviews(driver, url, star_filter):\n",
    "    filtered_url = f\"{url}&filterByStar={star_filter}\"\n",
    "    driver.get(filtered_url)\n",
    "    time.sleep(10)\n",
    "    \n",
    "    reviews = []\n",
    "    try:\n",
    "        for _ in range(11):\n",
    "            WebDriverWait(driver, 10).until(\n",
    "                EC.visibility_of_element_located((By.CSS_SELECTOR, 'div[data-hook=\"review\"]'))\n",
    "            )\n",
    "            review_elements = driver.find_elements(By.CSS_SELECTOR, 'div[data-hook=\"review\"]')\n",
    "\n",
    "            for element in review_elements:\n",
    "                name = element.find_element(By.CSS_SELECTOR, '.a-profile-name').text\n",
    "                title = element.find_element(By.CSS_SELECTOR, '.review-title').text\n",
    "                date = element.find_element(By.CSS_SELECTOR, '.review-date').text.split(' on ')[-1]\n",
    "                stars = element.find_element(By.CSS_SELECTOR, '.review-rating').text.split(' out')[0]\n",
    "                body = element.find_element(By.CSS_SELECTOR, '.review-text').text\n",
    "\n",
    "                reviews.append({\n",
    "                    'Name': name,\n",
    "                    'Title': title,\n",
    "                    'Date': date,\n",
    "                    'Stars': stars,\n",
    "                    'Review': body\n",
    "                })\n",
    "\n",
    "            try:\n",
    "                next_button = WebDriverWait(driver, 3).until(\n",
    "                    EC.element_to_be_clickable((By.CSS_SELECTOR, '.a-last a'))\n",
    "                )\n",
    "                driver.execute_script(\"arguments[0].click();\", next_button)\n",
    "                time.sleep(2)  # Respectful delay\n",
    "            except TimeoutException:\n",
    "                break  # No more pages to load for this star filter\n",
    "\n",
    "    except TimeoutException:\n",
    "        print(f\"No reviews found for {star_filter}, skipping to the next filter.\")\n",
    "    \n",
    "    return reviews"
   ]
  },
  {
   "cell_type": "markdown",
   "id": "88522372-1829-40d8-87ce-da42b621614a",
   "metadata": {},
   "source": [
    "## Scraping Amazon Reviews"
   ]
  },
  {
   "cell_type": "code",
   "execution_count": 3,
   "id": "1f022d4d-b60d-42ee-809c-0dc57c2cdad9",
   "metadata": {},
   "outputs": [
    {
     "name": "stdout",
     "output_type": "stream",
     "text": [
      "No reviews found for one_star, skipping to the next filter.\n",
      "Collected 0 reviews for one_star\n"
     ]
    },
    {
     "ename": "InvalidSessionIdException",
     "evalue": "Message: invalid session id: session deleted as the browser has closed the connection\nfrom disconnected: not connected to DevTools\n  (Session info: MicrosoftEdge=135.0.3179.98)\nStacktrace:\n\tGetHandleVerifier [0x00007FF7B9817A55+24981]\n\tMicrosoft::Applications::Events::ILogConfiguration::operator* [0x00007FF7B976AC60+444240]\n\tMicrosoft::Applications::Events::EventProperty::to_string [0x00007FF7B9A9E0EA+2011274]\n\t(No symbol) [0x00007FF7B952B880]\n\t(No symbol) [0x00007FF7B954A24A]\n\t(No symbol) [0x00007FF7B95AED66]\n\t(No symbol) [0x00007FF7B95C61EA]\n\t(No symbol) [0x00007FF7B95A8E03]\n\t(No symbol) [0x00007FF7B957D686]\n\t(No symbol) [0x00007FF7B957CB92]\n\t(No symbol) [0x00007FF7B957D4B3]\n\t(No symbol) [0x00007FF7B967900D]\n\tMicrosoft::Applications::Events::EventProperty::~EventProperty [0x00007FF7B9686943+41539]\n\tMicrosoft::Applications::Events::EventProperty::~EventProperty [0x00007FF7B967FC79+13689]\n\tMicrosoft::Applications::Events::EventProperty::to_string [0x00007FF7B98FA04A+290794]\n\tMicrosoft::Applications::Events::ILogConfiguration::operator* [0x00007FF7B9777D31+497697]\n\tMicrosoft::Applications::Events::ILogConfiguration::operator* [0x00007FF7B9770BB4+468644]\n\tMicrosoft::Applications::Events::ILogConfiguration::operator* [0x00007FF7B9770D03+468979]\n\tMicrosoft::Applications::Events::ILogConfiguration::operator* [0x00007FF7B9762E16+411910]\n\tBaseThreadInitThunk [0x00007FFFD953E8D7+23]\n\tRtlUserThreadStart [0x00007FFFDA8FC5DC+44]\n",
     "output_type": "error",
     "traceback": [
      "\u001b[1;31m---------------------------------------------------------------------------\u001b[0m",
      "\u001b[1;31mInvalidSessionIdException\u001b[0m                 Traceback (most recent call last)",
      "Cell \u001b[1;32mIn[3], line 18\u001b[0m\n\u001b[0;32m     15\u001b[0m login_amazon(driver, username, password)\n\u001b[0;32m     17\u001b[0m \u001b[38;5;28;01mfor\u001b[39;00m star_filter \u001b[38;5;129;01min\u001b[39;00m star_filters:\n\u001b[1;32m---> 18\u001b[0m     reviews \u001b[38;5;241m=\u001b[39m collect_reviews(driver, url, star_filter)\n\u001b[0;32m     19\u001b[0m     all_reviews\u001b[38;5;241m.\u001b[39mextend(reviews)\n\u001b[0;32m     20\u001b[0m     \u001b[38;5;28mprint\u001b[39m(\u001b[38;5;124mf\u001b[39m\u001b[38;5;124m\"\u001b[39m\u001b[38;5;124mCollected \u001b[39m\u001b[38;5;132;01m{\u001b[39;00m\u001b[38;5;28mlen\u001b[39m(reviews)\u001b[38;5;132;01m}\u001b[39;00m\u001b[38;5;124m reviews for \u001b[39m\u001b[38;5;132;01m{\u001b[39;00mstar_filter\u001b[38;5;132;01m}\u001b[39;00m\u001b[38;5;124m\"\u001b[39m)\n",
      "Cell \u001b[1;32mIn[1], line 42\u001b[0m, in \u001b[0;36mcollect_reviews\u001b[1;34m(driver, url, star_filter)\u001b[0m\n\u001b[0;32m     40\u001b[0m \u001b[38;5;28;01mtry\u001b[39;00m:\n\u001b[0;32m     41\u001b[0m     \u001b[38;5;28;01mfor\u001b[39;00m _ \u001b[38;5;129;01min\u001b[39;00m \u001b[38;5;28mrange\u001b[39m(\u001b[38;5;241m11\u001b[39m):\n\u001b[1;32m---> 42\u001b[0m         WebDriverWait(driver, \u001b[38;5;241m10\u001b[39m)\u001b[38;5;241m.\u001b[39muntil(\n\u001b[0;32m     43\u001b[0m             EC\u001b[38;5;241m.\u001b[39mvisibility_of_element_located((By\u001b[38;5;241m.\u001b[39mCSS_SELECTOR, \u001b[38;5;124m'\u001b[39m\u001b[38;5;124mdiv[data-hook=\u001b[39m\u001b[38;5;124m\"\u001b[39m\u001b[38;5;124mreview\u001b[39m\u001b[38;5;124m\"\u001b[39m\u001b[38;5;124m]\u001b[39m\u001b[38;5;124m'\u001b[39m))\n\u001b[0;32m     44\u001b[0m         )\n\u001b[0;32m     45\u001b[0m         review_elements \u001b[38;5;241m=\u001b[39m driver\u001b[38;5;241m.\u001b[39mfind_elements(By\u001b[38;5;241m.\u001b[39mCSS_SELECTOR, \u001b[38;5;124m'\u001b[39m\u001b[38;5;124mdiv[data-hook=\u001b[39m\u001b[38;5;124m\"\u001b[39m\u001b[38;5;124mreview\u001b[39m\u001b[38;5;124m\"\u001b[39m\u001b[38;5;124m]\u001b[39m\u001b[38;5;124m'\u001b[39m)\n\u001b[0;32m     47\u001b[0m         \u001b[38;5;28;01mfor\u001b[39;00m element \u001b[38;5;129;01min\u001b[39;00m review_elements:\n",
      "File \u001b[1;32m~\\AppData\\Local\\anaconda3\\Lib\\site-packages\\selenium\\webdriver\\support\\wait.py:137\u001b[0m, in \u001b[0;36mWebDriverWait.until\u001b[1;34m(self, method, message)\u001b[0m\n\u001b[0;32m    135\u001b[0m \u001b[38;5;28;01mwhile\u001b[39;00m \u001b[38;5;28;01mTrue\u001b[39;00m:\n\u001b[0;32m    136\u001b[0m     \u001b[38;5;28;01mtry\u001b[39;00m:\n\u001b[1;32m--> 137\u001b[0m         value \u001b[38;5;241m=\u001b[39m method(\u001b[38;5;28mself\u001b[39m\u001b[38;5;241m.\u001b[39m_driver)\n\u001b[0;32m    138\u001b[0m         \u001b[38;5;28;01mif\u001b[39;00m value:\n\u001b[0;32m    139\u001b[0m             \u001b[38;5;28;01mreturn\u001b[39;00m value\n",
      "File \u001b[1;32m~\\AppData\\Local\\anaconda3\\Lib\\site-packages\\selenium\\webdriver\\support\\expected_conditions.py:224\u001b[0m, in \u001b[0;36mvisibility_of_element_located.<locals>._predicate\u001b[1;34m(driver)\u001b[0m\n\u001b[0;32m    222\u001b[0m \u001b[38;5;28;01mdef\u001b[39;00m \u001b[38;5;21m_predicate\u001b[39m(driver: WebDriverOrWebElement):\n\u001b[0;32m    223\u001b[0m     \u001b[38;5;28;01mtry\u001b[39;00m:\n\u001b[1;32m--> 224\u001b[0m         \u001b[38;5;28;01mreturn\u001b[39;00m _element_if_visible(driver\u001b[38;5;241m.\u001b[39mfind_element(\u001b[38;5;241m*\u001b[39mlocator))\n\u001b[0;32m    225\u001b[0m     \u001b[38;5;28;01mexcept\u001b[39;00m StaleElementReferenceException:\n\u001b[0;32m    226\u001b[0m         \u001b[38;5;28;01mreturn\u001b[39;00m \u001b[38;5;28;01mFalse\u001b[39;00m\n",
      "File \u001b[1;32m~\\AppData\\Local\\anaconda3\\Lib\\site-packages\\selenium\\webdriver\\remote\\webdriver.py:898\u001b[0m, in \u001b[0;36mWebDriver.find_element\u001b[1;34m(self, by, value)\u001b[0m\n\u001b[0;32m    895\u001b[0m         \u001b[38;5;28;01mraise\u001b[39;00m NoSuchElementException(\u001b[38;5;124mf\u001b[39m\u001b[38;5;124m\"\u001b[39m\u001b[38;5;124mCannot locate relative element with: \u001b[39m\u001b[38;5;132;01m{\u001b[39;00mby\u001b[38;5;241m.\u001b[39mroot\u001b[38;5;132;01m}\u001b[39;00m\u001b[38;5;124m\"\u001b[39m)\n\u001b[0;32m    896\u001b[0m     \u001b[38;5;28;01mreturn\u001b[39;00m elements[\u001b[38;5;241m0\u001b[39m]\n\u001b[1;32m--> 898\u001b[0m \u001b[38;5;28;01mreturn\u001b[39;00m \u001b[38;5;28mself\u001b[39m\u001b[38;5;241m.\u001b[39mexecute(Command\u001b[38;5;241m.\u001b[39mFIND_ELEMENT, {\u001b[38;5;124m\"\u001b[39m\u001b[38;5;124musing\u001b[39m\u001b[38;5;124m\"\u001b[39m: by, \u001b[38;5;124m\"\u001b[39m\u001b[38;5;124mvalue\u001b[39m\u001b[38;5;124m\"\u001b[39m: value})[\u001b[38;5;124m\"\u001b[39m\u001b[38;5;124mvalue\u001b[39m\u001b[38;5;124m\"\u001b[39m]\n",
      "File \u001b[1;32m~\\AppData\\Local\\anaconda3\\Lib\\site-packages\\selenium\\webdriver\\remote\\webdriver.py:429\u001b[0m, in \u001b[0;36mWebDriver.execute\u001b[1;34m(self, driver_command, params)\u001b[0m\n\u001b[0;32m    427\u001b[0m response \u001b[38;5;241m=\u001b[39m \u001b[38;5;28mself\u001b[39m\u001b[38;5;241m.\u001b[39mcommand_executor\u001b[38;5;241m.\u001b[39mexecute(driver_command, params)\n\u001b[0;32m    428\u001b[0m \u001b[38;5;28;01mif\u001b[39;00m response:\n\u001b[1;32m--> 429\u001b[0m     \u001b[38;5;28mself\u001b[39m\u001b[38;5;241m.\u001b[39merror_handler\u001b[38;5;241m.\u001b[39mcheck_response(response)\n\u001b[0;32m    430\u001b[0m     response[\u001b[38;5;124m\"\u001b[39m\u001b[38;5;124mvalue\u001b[39m\u001b[38;5;124m\"\u001b[39m] \u001b[38;5;241m=\u001b[39m \u001b[38;5;28mself\u001b[39m\u001b[38;5;241m.\u001b[39m_unwrap_value(response\u001b[38;5;241m.\u001b[39mget(\u001b[38;5;124m\"\u001b[39m\u001b[38;5;124mvalue\u001b[39m\u001b[38;5;124m\"\u001b[39m, \u001b[38;5;28;01mNone\u001b[39;00m))\n\u001b[0;32m    431\u001b[0m     \u001b[38;5;28;01mreturn\u001b[39;00m response\n",
      "File \u001b[1;32m~\\AppData\\Local\\anaconda3\\Lib\\site-packages\\selenium\\webdriver\\remote\\errorhandler.py:232\u001b[0m, in \u001b[0;36mErrorHandler.check_response\u001b[1;34m(self, response)\u001b[0m\n\u001b[0;32m    230\u001b[0m         alert_text \u001b[38;5;241m=\u001b[39m value[\u001b[38;5;124m\"\u001b[39m\u001b[38;5;124malert\u001b[39m\u001b[38;5;124m\"\u001b[39m]\u001b[38;5;241m.\u001b[39mget(\u001b[38;5;124m\"\u001b[39m\u001b[38;5;124mtext\u001b[39m\u001b[38;5;124m\"\u001b[39m)\n\u001b[0;32m    231\u001b[0m     \u001b[38;5;28;01mraise\u001b[39;00m exception_class(message, screen, stacktrace, alert_text)  \u001b[38;5;66;03m# type: ignore[call-arg]  # mypy is not smart enough here\u001b[39;00m\n\u001b[1;32m--> 232\u001b[0m \u001b[38;5;28;01mraise\u001b[39;00m exception_class(message, screen, stacktrace)\n",
      "\u001b[1;31mInvalidSessionIdException\u001b[0m: Message: invalid session id: session deleted as the browser has closed the connection\nfrom disconnected: not connected to DevTools\n  (Session info: MicrosoftEdge=135.0.3179.98)\nStacktrace:\n\tGetHandleVerifier [0x00007FF7B9817A55+24981]\n\tMicrosoft::Applications::Events::ILogConfiguration::operator* [0x00007FF7B976AC60+444240]\n\tMicrosoft::Applications::Events::EventProperty::to_string [0x00007FF7B9A9E0EA+2011274]\n\t(No symbol) [0x00007FF7B952B880]\n\t(No symbol) [0x00007FF7B954A24A]\n\t(No symbol) [0x00007FF7B95AED66]\n\t(No symbol) [0x00007FF7B95C61EA]\n\t(No symbol) [0x00007FF7B95A8E03]\n\t(No symbol) [0x00007FF7B957D686]\n\t(No symbol) [0x00007FF7B957CB92]\n\t(No symbol) [0x00007FF7B957D4B3]\n\t(No symbol) [0x00007FF7B967900D]\n\tMicrosoft::Applications::Events::EventProperty::~EventProperty [0x00007FF7B9686943+41539]\n\tMicrosoft::Applications::Events::EventProperty::~EventProperty [0x00007FF7B967FC79+13689]\n\tMicrosoft::Applications::Events::EventProperty::to_string [0x00007FF7B98FA04A+290794]\n\tMicrosoft::Applications::Events::ILogConfiguration::operator* [0x00007FF7B9777D31+497697]\n\tMicrosoft::Applications::Events::ILogConfiguration::operator* [0x00007FF7B9770BB4+468644]\n\tMicrosoft::Applications::Events::ILogConfiguration::operator* [0x00007FF7B9770D03+468979]\n\tMicrosoft::Applications::Events::ILogConfiguration::operator* [0x00007FF7B9762E16+411910]\n\tBaseThreadInitThunk [0x00007FFFD953E8D7+23]\n\tRtlUserThreadStart [0x00007FFFDA8FC5DC+44]\n"
     ]
    }
   ],
   "source": [
    "# Amazon account\n",
    "username = 'bee050643@gmail.com'\n",
    "password = 'Bee050643'\n",
    "\n",
    "# URL Product\n",
    "url = 'https://www.amazon.com/product-reviews/B07N7672D4/ref=cm_cr_dp_d_show_all_btm?ie=UTF8&reviewerType=all_reviews'\n",
    "star_filters = ['one_star', 'two_star', 'three_star', 'four_star', 'five_star']\n",
    "all_reviews = []\n",
    "\n",
    "# Initialize WebDriver\n",
    "driver = webdriver.Edge(options=edge_options)\n",
    "driver.get(url)\n",
    "time.sleep(10)\n",
    "\n",
    "login_amazon(driver, username, password)\n",
    "\n",
    "for star_filter in star_filters:\n",
    "    reviews = collect_reviews(driver, url, star_filter)\n",
    "    all_reviews.extend(reviews)\n",
    "    print(f\"Collected {len(reviews)} reviews for {star_filter}\")\n",
    "\n",
    "# driver.quit()"
   ]
  },
  {
   "cell_type": "code",
   "execution_count": null,
   "id": "59b98bdf-a069-42d9-992b-931cf35e1adf",
   "metadata": {},
   "outputs": [],
   "source": [
    "print(f\"Total reviews collected: {len(all_reviews)}\")"
   ]
  },
  {
   "cell_type": "code",
   "execution_count": null,
   "id": "36a853e4-ae91-4333-a164-1fac60be7277",
   "metadata": {},
   "outputs": [],
   "source": [
    "df = pd.DataFrame(all_reviews)\n",
    "df.head()"
   ]
  },
  {
   "cell_type": "code",
   "execution_count": null,
   "id": "92440fcc-e806-44c9-9a2f-e0119bb92307",
   "metadata": {},
   "outputs": [],
   "source": [
    "product = url.split('/')[3].replace('-', ' ')\n",
    "print(product)"
   ]
  },
  {
   "cell_type": "code",
   "execution_count": null,
   "id": "3c97bdad-034a-4fdd-b8fe-b39770febce3",
   "metadata": {},
   "outputs": [],
   "source": [
    "df['Index'] = range(1, len(df) + 1)\n",
    "df['Product'] = product\n",
    "df['Source'] = 'Amazon'\n",
    "\n",
    "desired_columns = ['Index', 'Name', 'Title', 'Date', 'Review', 'Product', 'Source']\n",
    "df = df[desired_columns]\n",
    "df = df.drop_duplicates()\n",
    "df.head()"
   ]
  },
  {
   "cell_type": "code",
   "execution_count": null,
   "id": "4662c708-6d1c-4067-8f75-96b9d9b201ff",
   "metadata": {},
   "outputs": [],
   "source": [
    "df.shape"
   ]
  },
  {
   "cell_type": "code",
   "execution_count": null,
   "id": "434c0232-7de6-412e-b957-3c306951e354",
   "metadata": {},
   "outputs": [],
   "source": [
    "df.to_excel(f\"{product}_review.xlsx\", index=False)"
   ]
  },
  {
   "cell_type": "code",
   "execution_count": null,
   "id": "d7778001-1de9-4495-9d4e-c40086eacf92",
   "metadata": {},
   "outputs": [],
   "source": []
  }
 ],
 "metadata": {
  "kernelspec": {
   "display_name": "Python 3 (ipykernel)",
   "language": "python",
   "name": "python3"
  },
  "language_info": {
   "codemirror_mode": {
    "name": "ipython",
    "version": 3
   },
   "file_extension": ".py",
   "mimetype": "text/x-python",
   "name": "python",
   "nbconvert_exporter": "python",
   "pygments_lexer": "ipython3",
   "version": "3.11.11"
  }
 },
 "nbformat": 4,
 "nbformat_minor": 5
}
