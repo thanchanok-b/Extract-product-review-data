{
 "cells": [
  {
   "cell_type": "markdown",
   "id": "f3a2bdcc-598b-42bd-9c5d-3d2fa684a247",
   "metadata": {},
   "source": [
    "### Scraping Amazon Reviews"
   ]
  },
  {
   "cell_type": "code",
   "execution_count": 1,
   "id": "29b9b283-9b82-4eca-aa58-c4ace6c878e0",
   "metadata": {},
   "outputs": [],
   "source": [
    "import random\n",
    "from datetime import datetime\n",
    "\n",
    "import pandas as pd\n",
    "import requests\n",
    "from bs4 import BeautifulSoup"
   ]
  },
  {
   "cell_type": "markdown",
   "id": "d30c9895-fea2-41ed-9383-69aea2a64048",
   "metadata": {},
   "source": [
    "## Selenium"
   ]
  },
  {
   "cell_type": "code",
   "execution_count": 2,
   "id": "4f2ee43b-bb77-485d-9006-d741e04a477f",
   "metadata": {},
   "outputs": [
    {
     "ename": "WebDriverException",
     "evalue": "Message: unknown error: net::ERR_NAME_NOT_RESOLVED\n  (Session info: MicrosoftEdge=136.0.3240.92)\nStacktrace:\n\tGetHandleVerifier [0x00007FF61BD0F935+25029]\n\t(No symbol) [0x00007FF61BC64940]\n\tMicrosoft::Applications::Events::EventProperty::to_string [0x00007FF61BF6AA3A+1947706]\n\t(No symbol) [0x00007FF61BA28A30]\n\t(No symbol) [0x00007FF61BA1CE6F]\n\t(No symbol) [0x00007FF61BA1E4CD]\n\t(No symbol) [0x00007FF61BA1D0D9]\n\t(No symbol) [0x00007FF61BA1CCDC]\n\t(No symbol) [0x00007FF61BA1CA28]\n\t(No symbol) [0x00007FF61BA1AA69]\n\t(No symbol) [0x00007FF61BA1B03C]\n\t(No symbol) [0x00007FF61BA2F06A]\n\t(No symbol) [0x00007FF61BAB6D1E]\n\t(No symbol) [0x00007FF61BA9908A]\n\t(No symbol) [0x00007FF61BA6E15D]\n\t(No symbol) [0x00007FF61BAB6698]\n\t(No symbol) [0x00007FF61BA98DF3]\n\t(No symbol) [0x00007FF61BA6D6A6]\n\t(No symbol) [0x00007FF61BA6CBB3]\n\t(No symbol) [0x00007FF61BA6D4D3]\n\t(No symbol) [0x00007FF61BB75F0D]\n\t(No symbol) [0x00007FF61BB83AAF]\n\t(No symbol) [0x00007FF61BB7C49F]\n\tMicrosoft::Applications::Events::EventProperty::to_string [0x00007FF61BDD49EA+284650]\n\t(No symbol) [0x00007FF61BC722D1]\n\t(No symbol) [0x00007FF61BC6AD74]\n\t(No symbol) [0x00007FF61BC6AEC3]\n\t(No symbol) [0x00007FF61BC5CB06]\n\tBaseThreadInitThunk [0x00007FFEAE32E8D7+23]\n\tRtlUserThreadStart [0x00007FFEAF41C5DC+44]\n",
     "output_type": "error",
     "traceback": [
      "\u001b[1;31m---------------------------------------------------------------------------\u001b[0m",
      "\u001b[1;31mWebDriverException\u001b[0m                        Traceback (most recent call last)",
      "Cell \u001b[1;32mIn[2], line 81\u001b[0m\n\u001b[0;32m     79\u001b[0m \u001b[38;5;66;03m# Example usage:\u001b[39;00m\n\u001b[0;32m     80\u001b[0m url \u001b[38;5;241m=\u001b[39m \u001b[38;5;124m'\u001b[39m\u001b[38;5;124mhttps://https://www.amazon.com.au/product-reviews/B0DFMW6VZV/ref=cm_cr_dp_d_show_all_btm?ie=UTF8&reviewerType=all_reviews\u001b[39m\u001b[38;5;124m'\u001b[39m\n\u001b[1;32m---> 81\u001b[0m reviews \u001b[38;5;241m=\u001b[39m get_amazon_reviews(url, \u001b[38;5;241m10\u001b[39m)\n\u001b[0;32m     82\u001b[0m \u001b[38;5;28mprint\u001b[39m(\u001b[38;5;124mf\u001b[39m\u001b[38;5;124m\"\u001b[39m\u001b[38;5;124mTotal reviews collected: \u001b[39m\u001b[38;5;132;01m{\u001b[39;00m\u001b[38;5;28mlen\u001b[39m(reviews)\u001b[38;5;132;01m}\u001b[39;00m\u001b[38;5;124m\"\u001b[39m)\n",
      "Cell \u001b[1;32mIn[2], line 28\u001b[0m, in \u001b[0;36mget_amazon_reviews\u001b[1;34m(url, pages)\u001b[0m\n\u001b[0;32m     26\u001b[0m \u001b[38;5;28;01mfor\u001b[39;00m star_filter \u001b[38;5;129;01min\u001b[39;00m star_filters:\n\u001b[0;32m     27\u001b[0m     filtered_url \u001b[38;5;241m=\u001b[39m \u001b[38;5;124mf\u001b[39m\u001b[38;5;124m\"\u001b[39m\u001b[38;5;132;01m{\u001b[39;00murl\u001b[38;5;132;01m}\u001b[39;00m\u001b[38;5;124m&filterByStar=\u001b[39m\u001b[38;5;132;01m{\u001b[39;00mstar_filter\u001b[38;5;132;01m}\u001b[39;00m\u001b[38;5;124m\"\u001b[39m\n\u001b[1;32m---> 28\u001b[0m     driver\u001b[38;5;241m.\u001b[39mget(filtered_url)\n\u001b[0;32m     29\u001b[0m     time\u001b[38;5;241m.\u001b[39msleep(\u001b[38;5;241m5\u001b[39m)\n\u001b[0;32m     31\u001b[0m     reviews \u001b[38;5;241m=\u001b[39m []\n",
      "File \u001b[1;32m~\\AppData\\Local\\anaconda3\\Lib\\site-packages\\selenium\\webdriver\\remote\\webdriver.py:454\u001b[0m, in \u001b[0;36mWebDriver.get\u001b[1;34m(self, url)\u001b[0m\n\u001b[0;32m    436\u001b[0m \u001b[38;5;28;01mdef\u001b[39;00m \u001b[38;5;21mget\u001b[39m(\u001b[38;5;28mself\u001b[39m, url: \u001b[38;5;28mstr\u001b[39m) \u001b[38;5;241m-\u001b[39m\u001b[38;5;241m>\u001b[39m \u001b[38;5;28;01mNone\u001b[39;00m:\n\u001b[0;32m    437\u001b[0m \u001b[38;5;250m    \u001b[39m\u001b[38;5;124;03m\"\"\"Navigate the browser to the specified URL in the current window or\u001b[39;00m\n\u001b[0;32m    438\u001b[0m \u001b[38;5;124;03m    tab.\u001b[39;00m\n\u001b[0;32m    439\u001b[0m \n\u001b[1;32m   (...)\u001b[0m\n\u001b[0;32m    452\u001b[0m \u001b[38;5;124;03m    >>> driver.get(\"https://example.com\")\u001b[39;00m\n\u001b[0;32m    453\u001b[0m \u001b[38;5;124;03m    \"\"\"\u001b[39;00m\n\u001b[1;32m--> 454\u001b[0m     \u001b[38;5;28mself\u001b[39m\u001b[38;5;241m.\u001b[39mexecute(Command\u001b[38;5;241m.\u001b[39mGET, {\u001b[38;5;124m\"\u001b[39m\u001b[38;5;124murl\u001b[39m\u001b[38;5;124m\"\u001b[39m: url})\n",
      "File \u001b[1;32m~\\AppData\\Local\\anaconda3\\Lib\\site-packages\\selenium\\webdriver\\remote\\webdriver.py:429\u001b[0m, in \u001b[0;36mWebDriver.execute\u001b[1;34m(self, driver_command, params)\u001b[0m\n\u001b[0;32m    427\u001b[0m response \u001b[38;5;241m=\u001b[39m \u001b[38;5;28mself\u001b[39m\u001b[38;5;241m.\u001b[39mcommand_executor\u001b[38;5;241m.\u001b[39mexecute(driver_command, params)\n\u001b[0;32m    428\u001b[0m \u001b[38;5;28;01mif\u001b[39;00m response:\n\u001b[1;32m--> 429\u001b[0m     \u001b[38;5;28mself\u001b[39m\u001b[38;5;241m.\u001b[39merror_handler\u001b[38;5;241m.\u001b[39mcheck_response(response)\n\u001b[0;32m    430\u001b[0m     response[\u001b[38;5;124m\"\u001b[39m\u001b[38;5;124mvalue\u001b[39m\u001b[38;5;124m\"\u001b[39m] \u001b[38;5;241m=\u001b[39m \u001b[38;5;28mself\u001b[39m\u001b[38;5;241m.\u001b[39m_unwrap_value(response\u001b[38;5;241m.\u001b[39mget(\u001b[38;5;124m\"\u001b[39m\u001b[38;5;124mvalue\u001b[39m\u001b[38;5;124m\"\u001b[39m, \u001b[38;5;28;01mNone\u001b[39;00m))\n\u001b[0;32m    431\u001b[0m     \u001b[38;5;28;01mreturn\u001b[39;00m response\n",
      "File \u001b[1;32m~\\AppData\\Local\\anaconda3\\Lib\\site-packages\\selenium\\webdriver\\remote\\errorhandler.py:232\u001b[0m, in \u001b[0;36mErrorHandler.check_response\u001b[1;34m(self, response)\u001b[0m\n\u001b[0;32m    230\u001b[0m         alert_text \u001b[38;5;241m=\u001b[39m value[\u001b[38;5;124m\"\u001b[39m\u001b[38;5;124malert\u001b[39m\u001b[38;5;124m\"\u001b[39m]\u001b[38;5;241m.\u001b[39mget(\u001b[38;5;124m\"\u001b[39m\u001b[38;5;124mtext\u001b[39m\u001b[38;5;124m\"\u001b[39m)\n\u001b[0;32m    231\u001b[0m     \u001b[38;5;28;01mraise\u001b[39;00m exception_class(message, screen, stacktrace, alert_text)  \u001b[38;5;66;03m# type: ignore[call-arg]  # mypy is not smart enough here\u001b[39;00m\n\u001b[1;32m--> 232\u001b[0m \u001b[38;5;28;01mraise\u001b[39;00m exception_class(message, screen, stacktrace)\n",
      "\u001b[1;31mWebDriverException\u001b[0m: Message: unknown error: net::ERR_NAME_NOT_RESOLVED\n  (Session info: MicrosoftEdge=136.0.3240.92)\nStacktrace:\n\tGetHandleVerifier [0x00007FF61BD0F935+25029]\n\t(No symbol) [0x00007FF61BC64940]\n\tMicrosoft::Applications::Events::EventProperty::to_string [0x00007FF61BF6AA3A+1947706]\n\t(No symbol) [0x00007FF61BA28A30]\n\t(No symbol) [0x00007FF61BA1CE6F]\n\t(No symbol) [0x00007FF61BA1E4CD]\n\t(No symbol) [0x00007FF61BA1D0D9]\n\t(No symbol) [0x00007FF61BA1CCDC]\n\t(No symbol) [0x00007FF61BA1CA28]\n\t(No symbol) [0x00007FF61BA1AA69]\n\t(No symbol) [0x00007FF61BA1B03C]\n\t(No symbol) [0x00007FF61BA2F06A]\n\t(No symbol) [0x00007FF61BAB6D1E]\n\t(No symbol) [0x00007FF61BA9908A]\n\t(No symbol) [0x00007FF61BA6E15D]\n\t(No symbol) [0x00007FF61BAB6698]\n\t(No symbol) [0x00007FF61BA98DF3]\n\t(No symbol) [0x00007FF61BA6D6A6]\n\t(No symbol) [0x00007FF61BA6CBB3]\n\t(No symbol) [0x00007FF61BA6D4D3]\n\t(No symbol) [0x00007FF61BB75F0D]\n\t(No symbol) [0x00007FF61BB83AAF]\n\t(No symbol) [0x00007FF61BB7C49F]\n\tMicrosoft::Applications::Events::EventProperty::to_string [0x00007FF61BDD49EA+284650]\n\t(No symbol) [0x00007FF61BC722D1]\n\t(No symbol) [0x00007FF61BC6AD74]\n\t(No symbol) [0x00007FF61BC6AEC3]\n\t(No symbol) [0x00007FF61BC5CB06]\n\tBaseThreadInitThunk [0x00007FFEAE32E8D7+23]\n\tRtlUserThreadStart [0x00007FFEAF41C5DC+44]\n"
     ]
    }
   ],
   "source": [
    "from selenium import webdriver\n",
    "import xlsxwriter\n",
    "import requests\n",
    "from selenium.webdriver.edge.options import Options\n",
    "from selenium.webdriver.common.by import By\n",
    "import time\n",
    "from selenium.webdriver.support.ui import WebDriverWait\n",
    "from selenium.webdriver.support import expected_conditions as EC\n",
    "from selenium.webdriver.edge.service import Service\n",
    "from selenium.common.exceptions import NoSuchElementException, TimeoutException\n",
    "\n",
    "# Set up EdgeOptions\n",
    "edge_options = Options()\n",
    "edge_options.add_argument(\"user-agent=Mozilla/5.0 (Windows NT 10.0; Win64; x64) AppleWebKit/537.36 (KHTML, like Gecko) Chrome/91.0.4472.124 Safari/537.36 Edg/91.0.864.54\")\n",
    "edge_options.add_argument(\"window-size=1920x1080\")\n",
    "edge_options.add_argument(\"disable-extensions\")\n",
    "edge_options.add_argument(\"--disable-blink-features=AutomationControlled\")\n",
    "edge_options.add_experimental_option(\"excludeSwitches\", [\"enable-automation\"])\n",
    "\n",
    "def get_amazon_reviews(url, pages):\n",
    "    star_filters = ['one_star', 'two_star', 'three_star', 'four_star', 'five_star']\n",
    "    all_reviews = []\n",
    "\n",
    "    driver = webdriver.Edge()  # Use a single browser instance\n",
    "\n",
    "    for star_filter in star_filters:\n",
    "        filtered_url = f\"{url}&filterByStar={star_filter}\"\n",
    "        driver.get(filtered_url)\n",
    "        time.sleep(5)\n",
    "\n",
    "        reviews = []\n",
    "\n",
    "        try:\n",
    "            for page in range(pages):\n",
    "                WebDriverWait(driver, 25).until(\n",
    "                    EC.presence_of_element_located((By.CSS_SELECTOR, '#cm_cr-review_list'))\n",
    "                )\n",
    "                review_elements = driver.find_elements(By.CSS_SELECTOR, '#cm_cr-review_list .review')\n",
    "                for element in review_elements:\n",
    "                    # print(element)\n",
    "                    try:\n",
    "                        name = element.find_element(By.CSS_SELECTOR, '.a-profile-name').text\n",
    "                        title = element.find_element(By.CSS_SELECTOR, '[data-hook=\"review-title\"]').text\n",
    "                        date = element.find_element(By.CSS_SELECTOR, '[data-hook=\"review-date\"]').text.split(' on ')[-1]\n",
    "                        stars = element.find_element(By.CSS_SELECTOR, '.a-icon-alt').text.split(' out')[0]\n",
    "                        body = element.find_element(By.CSS_SELECTOR, '[data-hook=\"review-body\"] span').text\n",
    "\n",
    "                        reviews.append({\n",
    "                            'Name': name,\n",
    "                            'Title': title,\n",
    "                            'Date': date,\n",
    "                            'Stars': stars,\n",
    "                            'Review': body\n",
    "                        })\n",
    "                    except NoSuchElementException:\n",
    "                        continue\n",
    "\n",
    "                print(f\"Collected {len(reviews)} reviews for {star_filter} on page {page + 1}.\")\n",
    "\n",
    "                try:\n",
    "                    next_button = WebDriverWait(driver, 5).until(\n",
    "                        EC.element_to_be_clickable((By.CSS_SELECTOR, '.a-last a'))\n",
    "                    )\n",
    "                    driver.execute_script(\"arguments[0].click();\", next_button)\n",
    "                    time.sleep(2)\n",
    "                except TimeoutException:\n",
    "                    print(f\"No more pages for {star_filter}.\")\n",
    "                    break\n",
    "\n",
    "            all_reviews.extend(reviews)\n",
    "\n",
    "        except TimeoutException:\n",
    "            print(f\"Timeout for {star_filter}.\")\n",
    "            continue\n",
    "\n",
    "    driver.quit()\n",
    "    return all_reviews\n",
    "\n",
    "# Example usage:\n",
    "url = 'https://https://www.amazon.com.au/product-reviews/B0DFMW6VZV/ref=cm_cr_dp_d_show_all_btm?ie=UTF8&reviewerType=all_reviews'\n",
    "reviews = get_amazon_reviews(url, 10)\n",
    "print(f\"Total reviews collected: {len(reviews)}\")"
   ]
  },
  {
   "cell_type": "code",
   "execution_count": null,
   "id": "2f4fce80-490d-40ce-bd5a-b3c917749884",
   "metadata": {},
   "outputs": [],
   "source": [
    "# driver = webdriver.Edge(options=edge_options)\n",
    "# driver.get(url)"
   ]
  },
  {
   "cell_type": "code",
   "execution_count": null,
   "id": "ac9272eb-4584-4ad2-8291-b645c54ef90c",
   "metadata": {},
   "outputs": [],
   "source": [
    "df = pd.DataFrame(reviews)"
   ]
  },
  {
   "cell_type": "code",
   "execution_count": null,
   "id": "153b565a-73a6-44d8-a1ca-1d5ef91ccb25",
   "metadata": {},
   "outputs": [],
   "source": [
    "df.head()"
   ]
  },
  {
   "cell_type": "code",
   "execution_count": null,
   "id": "7adc9e35-c60c-4a8c-bf09-03073a57aa50",
   "metadata": {},
   "outputs": [],
   "source": [
    "df['Source'] = 'amazon.au'\n",
    "df['Product'] = 'E.L.F. GLOW REVIVER LIP OIL'"
   ]
  },
  {
   "cell_type": "code",
   "execution_count": null,
   "id": "a27de746-caf0-4e30-9724-f167f39d5363",
   "metadata": {},
   "outputs": [],
   "source": [
    "df.head()"
   ]
  },
  {
   "cell_type": "code",
   "execution_count": null,
   "id": "61433263-0262-4f9f-b863-1caeacaf13d0",
   "metadata": {},
   "outputs": [],
   "source": [
    "# Specify the desired column order\n",
    "desired_columns = [\"Date\", \"Title\", \"Review\", \"Source\", \"Product\"]\n",
    "\n",
    "# Reorder the columns\n",
    "df = df[desired_columns]"
   ]
  },
  {
   "cell_type": "code",
   "execution_count": null,
   "id": "5e20f34a-d0c9-4837-b862-94cda1efad93",
   "metadata": {},
   "outputs": [],
   "source": [
    "df = df.drop_duplicates()\n",
    "df.shape"
   ]
  },
  {
   "cell_type": "code",
   "execution_count": null,
   "id": "e87f0056-efc4-452c-821e-6cfb51390c8e",
   "metadata": {},
   "outputs": [],
   "source": [
    "df.head()"
   ]
  },
  {
   "cell_type": "code",
   "execution_count": null,
   "id": "d4a901b7-5f80-4cb8-a0b9-dac6eb98f073",
   "metadata": {},
   "outputs": [],
   "source": [
    "df.to_excel(f'5_{df['Product'].iloc[0]}.xlsx', index=False)"
   ]
  }
 ],
 "metadata": {
  "kernelspec": {
   "display_name": "Python 3 (ipykernel)",
   "language": "python",
   "name": "python3"
  },
  "language_info": {
   "codemirror_mode": {
    "name": "ipython",
    "version": 3
   },
   "file_extension": ".py",
   "mimetype": "text/x-python",
   "name": "python",
   "nbconvert_exporter": "python",
   "pygments_lexer": "ipython3",
   "version": "3.11.11"
  }
 },
 "nbformat": 4,
 "nbformat_minor": 5
}
