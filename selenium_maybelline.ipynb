{
 "cells": [
  {
   "cell_type": "markdown",
   "id": "5243c69a-dc4b-4d00-9e88-9da78f706410",
   "metadata": {},
   "source": [
    "https://www.maybelline.com.au/"
   ]
  },
  {
   "cell_type": "code",
   "execution_count": 1,
   "id": "5889b14d-0a1b-4ee7-b44d-c4dbd29c136f",
   "metadata": {},
   "outputs": [],
   "source": [
    "import pandas as pd\n",
    "import math\n",
    "import re\n",
    "import time\n",
    "from datetime import datetime\n",
    "from dateutil.relativedelta import relativedelta\n",
    "\n",
    "from selenium import webdriver\n",
    "from selenium.webdriver.edge.options import Options\n",
    "from selenium.webdriver.common.by import By\n",
    "from selenium.common.exceptions import NoSuchElementException\n",
    "\n",
    "# url ของเว็บที่ต้องการดูข้อมูล\n",
    "base_url = \"https://www.maybelline.com.au/all-products/face-makeup/face-powder/fit-me-matte-poreless-powder?variant=porcelain\" \n",
    "\n",
    "# Set up EdgeOptions\n",
    "edge_options = Options()\n",
    "edge_options.add_argument(\"user-agent=Mozilla/5.0 (Windows NT 10.0; Win64; x64) AppleWebKit/537.36 (KHTML, like Gecko) Chrome/91.0.4472.124 Safari/537.36 Edg/91.0.864.54\")\n",
    "edge_options.add_argument(\"window-size=1920x1080\")\n",
    "edge_options.add_argument(\"disable-extensions\")\n",
    "\n",
    "\n",
    "# Create Edge WebDriver with headless options\n",
    "driver = webdriver.Edge(options=edge_options)\n",
    "driver.get(base_url)"
   ]
  },
  {
   "cell_type": "code",
   "execution_count": 2,
   "id": "a91366b1-6d18-466f-b2d4-fe08567e51e2",
   "metadata": {},
   "outputs": [],
   "source": [
    "review_blocks = driver.find_elements(By.CSS_SELECTOR, \"li.bv-content-review\")\n",
    "\n",
    "for i, block in enumerate(review_blocks):\n",
    "    print(f\"---- Block {i+1} ----\")\n",
    "    print(block.text.strip())"
   ]
  },
  {
   "cell_type": "code",
   "execution_count": 3,
   "id": "8c21fd1e-8335-4eef-bfd2-22a65b26d810",
   "metadata": {},
   "outputs": [],
   "source": [
    "def extract_review(block):\n",
    "    rating = date = title = review = ''\n",
    "\n",
    "    # rating\n",
    "    try:\n",
    "        rating_element = block.find_element(By.CSS_SELECTOR, \"abbr[title*='out of 5 stars']\")\n",
    "        rating = rating_element.get_attribute(\"title\").strip()\n",
    "    except:\n",
    "        pass\n",
    "\n",
    "    # date\n",
    "    try:\n",
    "        date_element = block.find_element(By.CSS_SELECTOR, \"span.bv-content-datetime-stamp\")\n",
    "        date = date_element.text.strip().replace(\"·\", \"\").strip()\n",
    "    except:\n",
    "        pass\n",
    "\n",
    "    # title\n",
    "    try:\n",
    "        title_element = block.find_element(By.CSS_SELECTOR, \"h3.bv-content-title\")\n",
    "        title = title_element.text.strip()\n",
    "    except:\n",
    "        pass\n",
    "\n",
    "    # review\n",
    "    try:\n",
    "        review_element = block.find_element(By.CSS_SELECTOR, \"div.bv-content-summary-body-text\")\n",
    "        review = review_element.text.strip()\n",
    "        review = review.replace(\"[This review was collected as part of a promotion.]\", \"\").strip()\n",
    "        for phrase in [\"Originally posted on\", \"RESPONSE FROM\"]:\n",
    "            if phrase in review:\n",
    "                review = review.split(phrase)[0].strip()\n",
    "    except:\n",
    "        pass\n",
    "        \n",
    "    return {\n",
    "        \"rating\": rating,\n",
    "        \"date\": date,\n",
    "        \"title\": title,\n",
    "        \"review\": review\n",
    "    }"
   ]
  },
  {
   "cell_type": "code",
   "execution_count": 4,
   "id": "44d98ecf-ca38-4f2e-b7d6-0f5a8cbab67c",
   "metadata": {},
   "outputs": [
    {
     "data": {
      "text/html": [
       "<div>\n",
       "<style scoped>\n",
       "    .dataframe tbody tr th:only-of-type {\n",
       "        vertical-align: middle;\n",
       "    }\n",
       "\n",
       "    .dataframe tbody tr th {\n",
       "        vertical-align: top;\n",
       "    }\n",
       "\n",
       "    .dataframe thead th {\n",
       "        text-align: right;\n",
       "    }\n",
       "</style>\n",
       "<table border=\"1\" class=\"dataframe\">\n",
       "  <thead>\n",
       "    <tr style=\"text-align: right;\">\n",
       "      <th></th>\n",
       "    </tr>\n",
       "  </thead>\n",
       "  <tbody>\n",
       "  </tbody>\n",
       "</table>\n",
       "</div>"
      ],
      "text/plain": [
       "Empty DataFrame\n",
       "Columns: []\n",
       "Index: []"
      ]
     },
     "execution_count": 4,
     "metadata": {},
     "output_type": "execute_result"
    }
   ],
   "source": [
    "review_blocks = driver.find_elements(By.CSS_SELECTOR, \"li.bv-content-review\")\n",
    "data = [extract_review(block) for block in review_blocks]\n",
    "df = pd.DataFrame(data)\n",
    "df.head()"
   ]
  },
  {
   "cell_type": "code",
   "execution_count": 5,
   "id": "f20473e7-5d81-4f87-bff7-bf48ca249589",
   "metadata": {},
   "outputs": [],
   "source": [
    "# Check\n",
    "# for i, r in enumerate(review_blocks):\n",
    "#     review_data = extract_review(r)\n",
    "#     print(f\"---- Block {i+1} ----\")\n",
    "#     print(f\"Rating: {review_data['rating']}\")\n",
    "#     print(f\"Date: {review_data['date']}\")\n",
    "#     print(f\"Title: {review_data['title']}\")\n",
    "#     print(f\"Review: {review_data['review']}\")\n",
    "#     print()"
   ]
  },
  {
   "cell_type": "code",
   "execution_count": 7,
   "id": "4215efc3-11ea-41b6-a6ec-7e28bb41ab3b",
   "metadata": {},
   "outputs": [
    {
     "data": {
      "text/plain": [
       "'Next Reviews\\n►'"
      ]
     },
     "execution_count": 7,
     "metadata": {},
     "output_type": "execute_result"
    }
   ],
   "source": [
    "next_button = (driver.find_element(By.CSS_SELECTOR, \"a.bv-content-btn-pages:has(span.bv-content-btn-pages-next)\")).text\n",
    "next_button"
   ]
  },
  {
   "cell_type": "code",
   "execution_count": 8,
   "id": "d439670f-ac34-49b3-ae0c-0519e5a52021",
   "metadata": {},
   "outputs": [
    {
     "name": "stdout",
     "output_type": "stream",
     "text": [
      "Page 1: reviews collected 8\n",
      "Page 2: reviews collected 30\n",
      "Page 3: reviews collected 30\n",
      "Page 4: reviews collected 30\n",
      "Page 5: reviews collected 29\n",
      "Page 6: reviews collected 30\n",
      "Page 7: reviews collected 30\n",
      "Page 8: reviews collected 30\n",
      "Page 9: reviews collected 30\n",
      "Page 10: reviews collected 30\n",
      "Page 11: reviews collected 30\n",
      "Page 12: reviews collected 30\n",
      "Page 13: reviews collected 26\n",
      "✅ Total reviews collected: 363\n"
     ]
    }
   ],
   "source": [
    "MAX_REVIEWS = 363\n",
    "seen_reviews = set()\n",
    "data = []\n",
    "\n",
    "driver.get(base_url)\n",
    "time.sleep(2)\n",
    "page = 1\n",
    "\n",
    "while True:\n",
    "    review_blocks = driver.find_elements(By.CSS_SELECTOR, \"li.bv-content-review\")\n",
    "    new_reviews = 0\n",
    "\n",
    "    for block in review_blocks:\n",
    "        review_data = extract_review(block)\n",
    "        key = review_data[\"title\"] + review_data[\"review\"]\n",
    "        if key and key not in seen_reviews:\n",
    "            seen_reviews.add(key)\n",
    "            data.append(review_data)\n",
    "            new_reviews += 1\n",
    "    \n",
    "    print(f\"Page {page}: reviews collected {new_reviews}\")\n",
    "\n",
    "    if len(seen_reviews) >= MAX_REVIEWS:\n",
    "        # print(f\"Reached MAX_REVIEWS = {MAX_REVIEWS}. Stopping.\")\n",
    "        break\n",
    "\n",
    "    # คลิกปุ่ม Next\n",
    "    try:\n",
    "        next_button = driver.find_element(By.CSS_SELECTOR, \"a.bv-content-btn-pages:has(span.bv-content-btn-pages-next)\")\n",
    "        driver.execute_script(\"arguments[0].scrollIntoView(true);\", next_button)\n",
    "        driver.execute_script(\"arguments[0].click();\", next_button)\n",
    "        time.sleep(2)\n",
    "        page += 1\n",
    "    except NoSuchElementException:\n",
    "        break\n",
    "\n",
    "driver.quit()\n",
    "print(f\"✅ Total reviews collected: {len(seen_reviews)}\")"
   ]
  },
  {
   "cell_type": "code",
   "execution_count": 9,
   "id": "a8e1512e-de13-4fb1-a504-e8fbe52d6fdb",
   "metadata": {},
   "outputs": [
    {
     "data": {
      "text/html": [
       "<div>\n",
       "<style scoped>\n",
       "    .dataframe tbody tr th:only-of-type {\n",
       "        vertical-align: middle;\n",
       "    }\n",
       "\n",
       "    .dataframe tbody tr th {\n",
       "        vertical-align: top;\n",
       "    }\n",
       "\n",
       "    .dataframe thead th {\n",
       "        text-align: right;\n",
       "    }\n",
       "</style>\n",
       "<table border=\"1\" class=\"dataframe\">\n",
       "  <thead>\n",
       "    <tr style=\"text-align: right;\">\n",
       "      <th></th>\n",
       "      <th>rating</th>\n",
       "      <th>date</th>\n",
       "      <th>title</th>\n",
       "      <th>review</th>\n",
       "    </tr>\n",
       "  </thead>\n",
       "  <tbody>\n",
       "    <tr>\n",
       "      <th>0</th>\n",
       "      <td>5 out of 5 stars.</td>\n",
       "      <td>an hour ago</td>\n",
       "      <td>GREAT COVERAGE</td>\n",
       "      <td>The texture is so smooth. It’s mattifies my oi...</td>\n",
       "    </tr>\n",
       "    <tr>\n",
       "      <th>1</th>\n",
       "      <td>2 out of 5 stars.</td>\n",
       "      <td>6 hours ago</td>\n",
       "      <td>CRUSTY!</td>\n",
       "      <td>Wow, this product made my under eyes look cake...</td>\n",
       "    </tr>\n",
       "    <tr>\n",
       "      <th>2</th>\n",
       "      <td>5 out of 5 stars.</td>\n",
       "      <td>17 days ago</td>\n",
       "      <td>👍🏻</td>\n",
       "      <td>I’ve been using the Maybelline Fit Me Matte + ...</td>\n",
       "    </tr>\n",
       "    <tr>\n",
       "      <th>3</th>\n",
       "      <td>5 out of 5 stars.</td>\n",
       "      <td>13 days ago</td>\n",
       "      <td>DO YOU NEED TO TRY THIS POWDER!</td>\n",
       "      <td>I try Fit Me Matte + Poreless Powder by Maybel...</td>\n",
       "    </tr>\n",
       "    <tr>\n",
       "      <th>4</th>\n",
       "      <td>1 out of 5 stars.</td>\n",
       "      <td>5 years ago</td>\n",
       "      <td>HORRIBLE FEEL AND LOOK</td>\n",
       "      <td>I normally use the Maybelline stay Better Skin...</td>\n",
       "    </tr>\n",
       "  </tbody>\n",
       "</table>\n",
       "</div>"
      ],
      "text/plain": [
       "              rating         date                            title  \\\n",
       "0  5 out of 5 stars.  an hour ago                   GREAT COVERAGE   \n",
       "1  2 out of 5 stars.  6 hours ago                          CRUSTY!   \n",
       "2  5 out of 5 stars.  17 days ago                               👍🏻   \n",
       "3  5 out of 5 stars.  13 days ago  DO YOU NEED TO TRY THIS POWDER!   \n",
       "4  1 out of 5 stars.  5 years ago           HORRIBLE FEEL AND LOOK   \n",
       "\n",
       "                                              review  \n",
       "0  The texture is so smooth. It’s mattifies my oi...  \n",
       "1  Wow, this product made my under eyes look cake...  \n",
       "2  I’ve been using the Maybelline Fit Me Matte + ...  \n",
       "3  I try Fit Me Matte + Poreless Powder by Maybel...  \n",
       "4  I normally use the Maybelline stay Better Skin...  "
      ]
     },
     "execution_count": 9,
     "metadata": {},
     "output_type": "execute_result"
    }
   ],
   "source": [
    "df = pd.DataFrame(data)\n",
    "df.head()"
   ]
  },
  {
   "cell_type": "code",
   "execution_count": 10,
   "id": "bbf1b845-85e0-455a-a732-f2fc00bcbb4e",
   "metadata": {},
   "outputs": [],
   "source": [
    "def convert_to_date(text):\n",
    "    if not isinstance(text, str):\n",
    "        return None\n",
    "\n",
    "    text = text.strip().lower()\n",
    "    today = datetime.today()\n",
    "\n",
    "    # กรณี 'a year ago', etc.\n",
    "    special_cases = {\n",
    "        \"a year ago\": {\"years\": 1},\n",
    "        \"a month ago\": {\"months\": 1},\n",
    "        \"a week ago\": {\"weeks\": 1},\n",
    "        \"a day ago\": {\"days\": 1},\n",
    "        \"a hour ago\": {\"hours\": 1},\n",
    "        \"an hour ago\": {\"hours\": 1},\n",
    "    }\n",
    "\n",
    "    if text in special_cases:\n",
    "        return (today - relativedelta(**special_cases[text])).strftime('%Y-%m-%d')\n",
    "\n",
    "    # ตัวเลข เช่น \"3 days ago\"\n",
    "    match = re.match(r\"(\\d+)\\s+(hour|day|week|month|year)s?\\s+ago\", text)\n",
    "    if match:\n",
    "        num, unit = int(match.group(1)), match.group(2)\n",
    "        return (today - relativedelta(**{unit + 's': num})).strftime('%Y-%m-%d')"
   ]
  },
  {
   "cell_type": "code",
   "execution_count": 11,
   "id": "22722393-aad3-4f72-a639-8c9d35bd7497",
   "metadata": {},
   "outputs": [],
   "source": [
    "df['date'] = df['date'].apply(convert_to_date)"
   ]
  },
  {
   "cell_type": "code",
   "execution_count": 12,
   "id": "f3917910-e323-487e-81a5-27628962fa39",
   "metadata": {},
   "outputs": [],
   "source": [
    "df['source'] = 'maybelline.com.au'\n",
    "df['product'] = 'MAYBELLINE FIT ME MATTE + PORELESS POWDER'"
   ]
  },
  {
   "cell_type": "code",
   "execution_count": 13,
   "id": "765e4750-1385-423b-ace1-d226885cdd76",
   "metadata": {},
   "outputs": [
    {
     "data": {
      "text/html": [
       "<div>\n",
       "<style scoped>\n",
       "    .dataframe tbody tr th:only-of-type {\n",
       "        vertical-align: middle;\n",
       "    }\n",
       "\n",
       "    .dataframe tbody tr th {\n",
       "        vertical-align: top;\n",
       "    }\n",
       "\n",
       "    .dataframe thead th {\n",
       "        text-align: right;\n",
       "    }\n",
       "</style>\n",
       "<table border=\"1\" class=\"dataframe\">\n",
       "  <thead>\n",
       "    <tr style=\"text-align: right;\">\n",
       "      <th></th>\n",
       "      <th>rating</th>\n",
       "      <th>date</th>\n",
       "      <th>title</th>\n",
       "      <th>review</th>\n",
       "      <th>source</th>\n",
       "      <th>product</th>\n",
       "    </tr>\n",
       "  </thead>\n",
       "  <tbody>\n",
       "    <tr>\n",
       "      <th>0</th>\n",
       "      <td>5 out of 5 stars.</td>\n",
       "      <td>2025-05-26</td>\n",
       "      <td>GREAT COVERAGE</td>\n",
       "      <td>The texture is so smooth. It’s mattifies my oi...</td>\n",
       "      <td>maybelline.com.au</td>\n",
       "      <td>MAYBELLINE FIT ME MATTE + PORELESS POWDER</td>\n",
       "    </tr>\n",
       "    <tr>\n",
       "      <th>1</th>\n",
       "      <td>2 out of 5 stars.</td>\n",
       "      <td>2025-05-26</td>\n",
       "      <td>CRUSTY!</td>\n",
       "      <td>Wow, this product made my under eyes look cake...</td>\n",
       "      <td>maybelline.com.au</td>\n",
       "      <td>MAYBELLINE FIT ME MATTE + PORELESS POWDER</td>\n",
       "    </tr>\n",
       "    <tr>\n",
       "      <th>2</th>\n",
       "      <td>5 out of 5 stars.</td>\n",
       "      <td>2025-05-09</td>\n",
       "      <td>👍🏻</td>\n",
       "      <td>I’ve been using the Maybelline Fit Me Matte + ...</td>\n",
       "      <td>maybelline.com.au</td>\n",
       "      <td>MAYBELLINE FIT ME MATTE + PORELESS POWDER</td>\n",
       "    </tr>\n",
       "    <tr>\n",
       "      <th>3</th>\n",
       "      <td>5 out of 5 stars.</td>\n",
       "      <td>2025-05-13</td>\n",
       "      <td>DO YOU NEED TO TRY THIS POWDER!</td>\n",
       "      <td>I try Fit Me Matte + Poreless Powder by Maybel...</td>\n",
       "      <td>maybelline.com.au</td>\n",
       "      <td>MAYBELLINE FIT ME MATTE + PORELESS POWDER</td>\n",
       "    </tr>\n",
       "    <tr>\n",
       "      <th>4</th>\n",
       "      <td>1 out of 5 stars.</td>\n",
       "      <td>2020-05-26</td>\n",
       "      <td>HORRIBLE FEEL AND LOOK</td>\n",
       "      <td>I normally use the Maybelline stay Better Skin...</td>\n",
       "      <td>maybelline.com.au</td>\n",
       "      <td>MAYBELLINE FIT ME MATTE + PORELESS POWDER</td>\n",
       "    </tr>\n",
       "  </tbody>\n",
       "</table>\n",
       "</div>"
      ],
      "text/plain": [
       "              rating        date                            title  \\\n",
       "0  5 out of 5 stars.  2025-05-26                   GREAT COVERAGE   \n",
       "1  2 out of 5 stars.  2025-05-26                          CRUSTY!   \n",
       "2  5 out of 5 stars.  2025-05-09                               👍🏻   \n",
       "3  5 out of 5 stars.  2025-05-13  DO YOU NEED TO TRY THIS POWDER!   \n",
       "4  1 out of 5 stars.  2020-05-26           HORRIBLE FEEL AND LOOK   \n",
       "\n",
       "                                              review             source  \\\n",
       "0  The texture is so smooth. It’s mattifies my oi...  maybelline.com.au   \n",
       "1  Wow, this product made my under eyes look cake...  maybelline.com.au   \n",
       "2  I’ve been using the Maybelline Fit Me Matte + ...  maybelline.com.au   \n",
       "3  I try Fit Me Matte + Poreless Powder by Maybel...  maybelline.com.au   \n",
       "4  I normally use the Maybelline stay Better Skin...  maybelline.com.au   \n",
       "\n",
       "                                     product  \n",
       "0  MAYBELLINE FIT ME MATTE + PORELESS POWDER  \n",
       "1  MAYBELLINE FIT ME MATTE + PORELESS POWDER  \n",
       "2  MAYBELLINE FIT ME MATTE + PORELESS POWDER  \n",
       "3  MAYBELLINE FIT ME MATTE + PORELESS POWDER  \n",
       "4  MAYBELLINE FIT ME MATTE + PORELESS POWDER  "
      ]
     },
     "execution_count": 13,
     "metadata": {},
     "output_type": "execute_result"
    }
   ],
   "source": [
    "df.head()"
   ]
  },
  {
   "cell_type": "code",
   "execution_count": 14,
   "id": "ac2a680f-e1b7-42e0-82db-e55cf9019a2d",
   "metadata": {},
   "outputs": [
    {
     "data": {
      "text/plain": [
       "rating     0\n",
       "date       0\n",
       "title      0\n",
       "review     0\n",
       "source     0\n",
       "product    0\n",
       "dtype: int64"
      ]
     },
     "execution_count": 14,
     "metadata": {},
     "output_type": "execute_result"
    }
   ],
   "source": [
    "df.isna().sum()"
   ]
  },
  {
   "cell_type": "code",
   "execution_count": 15,
   "id": "fcd3715c-1495-4b07-8b9a-1765968dcac7",
   "metadata": {},
   "outputs": [],
   "source": [
    "df.to_excel(f'1_{df['product'].iloc[0]}.xlsx', index=False)"
   ]
  },
  {
   "cell_type": "code",
   "execution_count": null,
   "id": "0c86af34-c424-45d3-8e2d-8b5e95546415",
   "metadata": {},
   "outputs": [],
   "source": []
  },
  {
   "cell_type": "code",
   "execution_count": null,
   "id": "8a60c18c-466d-487e-b2d2-4332cdaf5627",
   "metadata": {},
   "outputs": [],
   "source": []
  }
 ],
 "metadata": {
  "kernelspec": {
   "display_name": "Python 3 (ipykernel)",
   "language": "python",
   "name": "python3"
  },
  "language_info": {
   "codemirror_mode": {
    "name": "ipython",
    "version": 3
   },
   "file_extension": ".py",
   "mimetype": "text/x-python",
   "name": "python",
   "nbconvert_exporter": "python",
   "pygments_lexer": "ipython3",
   "version": "3.12.9"
  }
 },
 "nbformat": 4,
 "nbformat_minor": 5
}
